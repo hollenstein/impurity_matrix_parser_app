{
 "cells": [
  {
   "cell_type": "markdown",
   "id": "63fead6d-5e8e-405a-8acd-8fae74499f1d",
   "metadata": {},
   "source": [
    "# Impurity matrix parser app\n",
    "Run all cells in the notebook to start the impurity matrix parser app"
   ]
  },
  {
   "cell_type": "code",
   "execution_count": null,
   "id": "32b47066-565e-48d8-b8df-5d5637646468",
   "metadata": {
    "jupyter": {
     "source_hidden": true
    },
    "tags": []
   },
   "outputs": [],
   "source": [
    "import sys\n",
    "sys.path.append(\"../src\")\n",
    "from impurity_parser_app import start_app\n",
    "start_app()"
   ]
  }
 ],
 "metadata": {
  "kernelspec": {
   "display_name": "Python [conda env:impurity-parser]",
   "language": "python",
   "name": "conda-env-impurity-parser-py"
  },
  "language_info": {
   "codemirror_mode": {
    "name": "ipython",
    "version": 3
   },
   "file_extension": ".py",
   "mimetype": "text/x-python",
   "name": "python",
   "nbconvert_exporter": "python",
   "pygments_lexer": "ipython3",
   "version": "3.10.12"
  }
 },
 "nbformat": 4,
 "nbformat_minor": 5
}
